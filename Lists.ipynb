{
  "nbformat": 4,
  "nbformat_minor": 0,
  "metadata": {
    "colab": {
      "name": "Lists.ipynb",
      "provenance": []
    },
    "kernelspec": {
      "name": "python3",
      "display_name": "Python 3"
    },
    "language_info": {
      "name": "python"
    }
  },
  "cells": [
    {
      "cell_type": "markdown",
      "source": [
        "# Lists\n",
        "Lists are a data structure that enable us to store multiple items in a single variable. Unlike other programming languages, in Python we can store different types of data in the same list. "
      ],
      "metadata": {
        "id": "PiCliUnjM5P5"
      }
    },
    {
      "cell_type": "code",
      "source": [
        "# list of strings\n",
        "strings = [\"hello\", \"how\", \"are\", \"you\", \"doing\"]\n",
        "\n",
        "# list of integers\n",
        "integers = [1, 2, 3, 4, 5, 6, 7, 8, 9, 10]\n",
        "\n",
        "# mixed lists of integers, floats, booleans, strings\n",
        "mixed = [2, 3.14159, 4, True, \"hello\"]\n",
        "\n",
        "# we can also have lists of lists, with multiple levels\n",
        "lists = [[\"Anna\", 3], [\"Jacob\", 7], [\"Caleb\", 11]]"
      ],
      "metadata": {
        "id": "cmGKcfKhN34N"
      },
      "execution_count": null,
      "outputs": []
    },
    {
      "cell_type": "markdown",
      "source": [
        "We can access different elements of a list by indexing by position. The first element of the list is in position 0, the second element is in position 1, etc. Additionally, we can use negative indexes to start counting from the last element of the list, which has index -1. "
      ],
      "metadata": {
        "id": "-ngyJ4WLOvrF"
      }
    },
    {
      "cell_type": "code",
      "source": [
        "# this will print the word \"hello\"\n",
        "print(strings[0])\n",
        "\n",
        "# this will print the number 10\n",
        "print(integers[-1])\n",
        "\n",
        "# this will change the value of 3.14159\n",
        "mixed[1] = 2.718\n",
        "print(mixed)\n",
        "\n",
        "# for nested lists, you can index multiple times to retrieve values within the inner list\n",
        "# this will print the name \"Jacob\"\n",
        "print(lists[1][1])"
      ],
      "metadata": {
        "colab": {
          "base_uri": "https://localhost:8080/"
        },
        "id": "6lvLp7D0PG2h",
        "outputId": "caae94ef-28b2-492e-f4a3-cb2eb195d20e"
      },
      "execution_count": null,
      "outputs": [
        {
          "output_type": "stream",
          "name": "stdout",
          "text": [
            "hello\n",
            "10\n",
            "[2, 2.718, 4, True, 'hello']\n",
            "7\n"
          ]
        }
      ]
    },
    {
      "cell_type": "markdown",
      "source": [
        "Use your knowledge of lists and indexing to complete the following exercises"
      ],
      "metadata": {
        "id": "SRgw99CzUeS8"
      }
    },
    {
      "cell_type": "code",
      "source": [
        "# Exercise: use both positive and negative indices to print the boolean True\n",
        "print(mixed[3])\n",
        "print(mixed[-2])\n",
        "\n",
        "# Exercise: use both positive and negative indices to print [\"Anna, 3\"]\n",
        "print(lists[0])\n",
        "print(lists[-3])\n",
        "\n",
        "# Exercise: use multiple indices (positive, negative, either) to print the number 11 from the variable lists\n",
        "print(lists[2][1])"
      ],
      "metadata": {
        "id": "iLAUVR35Ucwu",
        "colab": {
          "base_uri": "https://localhost:8080/"
        },
        "outputId": "34dc46bc-58e8-4e9b-cad9-f9faf6b008d3"
      },
      "execution_count": null,
      "outputs": [
        {
          "output_type": "stream",
          "name": "stdout",
          "text": [
            "True\n",
            "True\n",
            "['Anna', 3]\n",
            "['Anna', 3]\n",
            "11\n"
          ]
        }
      ]
    },
    {
      "cell_type": "markdown",
      "source": [
        "We can retrieve a section of the list by slicing. Slicing allows us to retrieve all the entries of the list between two indices. When we slice between two indices, first index is inclusive, but the second index is not included. Additionally, we have the option of adding a \"step\" while slicing. The default value for step is 1, which includes every element of the list, but a step of 2 would return every other item of the list. \n",
        "\n"
      ],
      "metadata": {
        "id": "uvoZHBdqRfe-"
      }
    },
    {
      "cell_type": "markdown",
      "source": [
        "The following format is used for slicing a list: <br>\n",
        "list[start : end : step] <br>\n",
        "where the end index is noninclusive\n",
        "<br> <br>\n",
        "The default value for the start index is 0, the default value for the end index is the length of the list (1 greater than the index of the last position), and the default value for the step size is 1. Any of these indices can be omitted to use the default values."
      ],
      "metadata": {
        "id": "8gj2GJeITAJx"
      }
    },
    {
      "cell_type": "code",
      "source": [
        "strings = [\"hello\", \"how\", \"are\", \"you\", \"doing\"]\n",
        "integers = [1, 2, 3, 4, 5, 6, 7, 8, 9, 10]\n",
        "mixed = [2, 3.14159, 4, True, \"hello\"]\n",
        "lists = [[\"Anna\", 3], [\"Jacob\", 7], [\"Caleb\", 11]]\n",
        "\n",
        "# both of these will print a list with the words \"hello\", \"how\", \"are\"\n",
        "print(strings[0:3])\n",
        "print(strings[:])\n",
        "\n",
        "# to print every other word, we can use a step size of 2\n",
        "print(strings[0: len(strings): 2])\n",
        "print(strings[::2])\n",
        "\n",
        "# to print the words backwards, we can use a step size of -1\n",
        "print(strings[::-1])"
      ],
      "metadata": {
        "colab": {
          "base_uri": "https://localhost:8080/"
        },
        "id": "9ENY03EkR-t6",
        "outputId": "2ac75b46-f3a5-47e2-b02e-a59026eb8f70"
      },
      "execution_count": null,
      "outputs": [
        {
          "output_type": "stream",
          "name": "stdout",
          "text": [
            "['hello', 'how', 'are']\n",
            "['hello', 'how', 'are', 'you', 'doing']\n",
            "['hello', 'are', 'doing']\n",
            "['hello', 'are', 'doing']\n",
            "['doing', 'you', 'are', 'how', 'hello']\n"
          ]
        }
      ]
    },
    {
      "cell_type": "markdown",
      "source": [
        "Use your knowledge of indexing, slicing, and step sizes to complete the following exercises"
      ],
      "metadata": {
        "id": "KAVOdBy-UylJ"
      }
    },
    {
      "cell_type": "code",
      "source": [
        "# Exercise: print only odd numbers from the integers list\n",
        "print(integers[0:len(integers):2])\n",
        "print(integers[::2])\n",
        "print(integers[0 : 10 : 2])\n",
        "\n",
        "mixed = [2, 3.14159, 4, True, \"hello\"]\n",
        "# Exercise: print only the integers (2, 4) from the mixed list\n",
        "print(mixed[0:4:2])\n",
        "print(mixed[0:3:2])\n",
        "print(mixed[0:len(mixed)-1:2])"
      ],
      "metadata": {
        "id": "8Ka5QpwQU5_r",
        "colab": {
          "base_uri": "https://localhost:8080/"
        },
        "outputId": "fd761362-806b-4206-f61a-dadfc70558c8"
      },
      "execution_count": null,
      "outputs": [
        {
          "output_type": "stream",
          "name": "stdout",
          "text": [
            "[1, 3, 5, 7, 9]\n",
            "[1, 3, 5, 7, 9]\n",
            "[1, 3, 5, 7, 9]\n",
            "[2, 4]\n",
            "[2, 4]\n",
            "[2, 4]\n"
          ]
        }
      ]
    },
    {
      "cell_type": "markdown",
      "source": [
        "We can add and remove items from the list using some of Python's in-built methods. "
      ],
      "metadata": {
        "id": "hvE-8MXLW7Nl"
      }
    },
    {
      "cell_type": "code",
      "source": [
        "# add an item to the end of the list\n",
        "integers.append(11)\n",
        "#print(integers)\n",
        "\n",
        "# insert an item at a given index\n",
        "#print(mixed)\n",
        "mixed.insert(3, False)\n",
        "#print(mixed)\n",
        "\n",
        "# remove an item by value\n",
        "mixed = [2, 3.14159, 4, True, \"hello\", True]\n",
        "mixed.remove(True)\n",
        "print(mixed)\n",
        "\n",
        "# remove an item by index, if no index is specified then pop() will remove the last value\n",
        "#print(strings)\n",
        "strings.pop(0)\n",
        "#print(strings)"
      ],
      "metadata": {
        "colab": {
          "base_uri": "https://localhost:8080/",
          "height": 53
        },
        "id": "ku_p5jGMXdWZ",
        "outputId": "ba157a6c-9abf-46db-a50f-915bfeb8fe1b"
      },
      "execution_count": null,
      "outputs": [
        {
          "output_type": "stream",
          "name": "stdout",
          "text": [
            "[2, 3.14159, 4, 'hello', True]\n"
          ]
        },
        {
          "output_type": "execute_result",
          "data": {
            "application/vnd.google.colaboratory.intrinsic+json": {
              "type": "string"
            },
            "text/plain": [
              "'you'"
            ]
          },
          "metadata": {},
          "execution_count": 39
        }
      ]
    },
    {
      "cell_type": "markdown",
      "source": [
        "Use your knowledge of list methods to alter the following lists:"
      ],
      "metadata": {
        "id": "GyjhjT4zY2WP"
      }
    },
    {
      "cell_type": "code",
      "source": [
        "# Exercise: write a function to remove all odd numbers from the integers list\n",
        "integers = [1, 2, 3, 4, 5, 6, 7, 8, 9, 10]\n",
        "\n",
        "print(integers)\n",
        "\n",
        "def function(integers):\n",
        "  for number in integers:\n",
        "    if number%2 == 1:\n",
        "      integers.remove(number)\n",
        "\n",
        "function(integers)\n",
        "print(integers)\n",
        "\n",
        "\n",
        "# Exercise: use the append() and insert() functions to insert some names and numbers to the lists variable\n",
        "integers.append(11)\n",
        "integers.append(12)\n",
        "integers.append(13)\n",
        "print(integers)\n",
        "\n",
        "function(integers)\n",
        "print(integers)"
      ],
      "metadata": {
        "id": "GdNHM2eaY9xJ",
        "colab": {
          "base_uri": "https://localhost:8080/"
        },
        "outputId": "9288500e-eca2-4cd9-8b60-b3350be7c0ff"
      },
      "execution_count": null,
      "outputs": [
        {
          "output_type": "stream",
          "name": "stdout",
          "text": [
            "[1, 2, 3, 4, 5, 6, 7, 8, 9, 10]\n",
            "[2, 4, 6, 8, 10]\n",
            "[2, 4, 6, 8, 10, 11, 12, 13]\n",
            "[2, 4, 6, 8, 10, 12]\n"
          ]
        }
      ]
    },
    {
      "cell_type": "markdown",
      "source": [
        "List comprehension allows us to create lists from other lists, containing values that satisfy a given condition. Instead of manually populating a list or adding values one by one, list comprehension combines functions and if/else conditions to populate lists more easily. "
      ],
      "metadata": {
        "id": "e9nKnXknZot4"
      }
    },
    {
      "cell_type": "code",
      "source": [
        "# this will create a new list of strings of length 3\n",
        "strings = [\"hello\", \"how\", \"are\", \"you\", \"doing\"]\n",
        "print(strings)\n",
        "\n",
        "newlist = []\n",
        "for word in strings:\n",
        "  if len(word) == 3:\n",
        "    newlist.append(word)\n",
        "\n",
        "#print(newlist)\n",
        "\n",
        "three_letter_words = [word for word in strings if len(word) == 3]\n",
        "#print(three_letter_words)\n",
        "\n",
        "# this will isolate the booleans from the list of mixed data types\n",
        "#print(mixed)\n",
        "booleans = [x for x in mixed if type(x) == bool]\n",
        "#print(booleans)\n",
        "\n",
        "# this uses an if-else condition, if the word contains an 'o' then the word is capitalized\n",
        "# otherwise, the word is not capitalized\n",
        "capitals = [x.upper() if \"o\" in x else x for x in strings]\n",
        "print(capitals)\n",
        "\n",
        "# we can use the \"range\" function and a step size of 3 to create a list of numbers divisible by 3\n",
        "# the parameters of the range function are the same of those used when you slice a list\n",
        "multiples_of_three = [num for num in range(3,50,3)]\n",
        "#print(multiples_of_three)\n",
        "\n",
        "# we can modify the contents of the list when transferring over entries\n",
        "# this will add 2 letters to the end of every word in the list\n",
        "new_list = [word + 2*word[-1] for word in strings]\n",
        "#print(new_list)"
      ],
      "metadata": {
        "colab": {
          "base_uri": "https://localhost:8080/"
        },
        "id": "2E-jvrlIaDxh",
        "outputId": "f8a8b8ae-66ae-422c-cbf7-49fb51f5f627"
      },
      "execution_count": null,
      "outputs": [
        {
          "output_type": "stream",
          "name": "stdout",
          "text": [
            "['hello', 'how', 'are', 'you', 'doing']\n",
            "['HELLO', 'HOW', 'are', 'YOU', 'DOING']\n"
          ]
        }
      ]
    },
    {
      "cell_type": "markdown",
      "source": [
        "Apply the information about list comprehension to the following exercises:"
      ],
      "metadata": {
        "id": "06bGGf24btMS"
      }
    },
    {
      "cell_type": "code",
      "source": [
        "# Exercise: use slicing to create a list containing only the first names of the entires in the lists variable\n",
        "\n",
        "# Exercise: use an if-else statement to add 100 to the items that are integers, but do not modify the other items\n",
        "\n",
        "# Exercise: add 5 to the numbers in the lists variable"
      ],
      "metadata": {
        "id": "e6VT012ZbsfT"
      },
      "execution_count": null,
      "outputs": []
    },
    {
      "cell_type": "markdown",
      "source": [
        "# Other Data Structures\n",
        "Other examples of data structures include tuples and dictionaries. \n",
        "Tuples are very similar to lists, in that they group information into a single data structure, and you can access elements of a tuple by indexing in the same way that you can access elements of a list. \n",
        "<br> <br>\n",
        "Key Difference: Tuples are **immutable**, once you have created a tuple you cannot add any elements to it or change its value.\n",
        "\n"
      ],
      "metadata": {
        "id": "YdLnpdwN2T9Q"
      }
    },
    {
      "cell_type": "code",
      "source": [
        "x = [1, 2, 3, 4, 5] # this is a list\n",
        "y = (1, 2, 3, 4, 5) # this is a tuple\n",
        "\n",
        "# try to add & change values in the list\n",
        "x[1] = 10\n",
        "x.append(6)\n",
        "print(x)\n",
        "\n",
        "# try to add & change values in the tuple -- will output error\n",
        "y[1] = 10\n",
        "y.append(6) # cannot append because there are no add/append methods associated with tuples"
      ],
      "metadata": {
        "colab": {
          "base_uri": "https://localhost:8080/",
          "height": 236
        },
        "id": "qNNo_kAC2mg0",
        "outputId": "519d6734-a848-4e51-f13f-680641a16414"
      },
      "execution_count": null,
      "outputs": [
        {
          "output_type": "stream",
          "name": "stdout",
          "text": [
            "[1, 10, 3, 4, 5, 6]\n"
          ]
        },
        {
          "output_type": "error",
          "ename": "TypeError",
          "evalue": "ignored",
          "traceback": [
            "\u001b[0;31m---------------------------------------------------------------------------\u001b[0m",
            "\u001b[0;31mTypeError\u001b[0m                                 Traceback (most recent call last)",
            "\u001b[0;32m<ipython-input-5-b72516a70115>\u001b[0m in \u001b[0;36m<module>\u001b[0;34m()\u001b[0m\n\u001b[1;32m      8\u001b[0m \u001b[0;34m\u001b[0m\u001b[0m\n\u001b[1;32m      9\u001b[0m \u001b[0;31m# try to add & change values in the tuple -- will output error\u001b[0m\u001b[0;34m\u001b[0m\u001b[0;34m\u001b[0m\u001b[0;34m\u001b[0m\u001b[0m\n\u001b[0;32m---> 10\u001b[0;31m \u001b[0my\u001b[0m\u001b[0;34m[\u001b[0m\u001b[0;36m1\u001b[0m\u001b[0;34m]\u001b[0m \u001b[0;34m=\u001b[0m \u001b[0;36m10\u001b[0m\u001b[0;34m\u001b[0m\u001b[0;34m\u001b[0m\u001b[0m\n\u001b[0m\u001b[1;32m     11\u001b[0m \u001b[0my\u001b[0m\u001b[0;34m.\u001b[0m\u001b[0mappend\u001b[0m\u001b[0;34m(\u001b[0m\u001b[0;36m6\u001b[0m\u001b[0;34m)\u001b[0m \u001b[0;31m# cannot append because there are no add/append methods associated with tuples\u001b[0m\u001b[0;34m\u001b[0m\u001b[0;34m\u001b[0m\u001b[0m\n",
            "\u001b[0;31mTypeError\u001b[0m: 'tuple' object does not support item assignment"
          ]
        }
      ]
    },
    {
      "cell_type": "markdown",
      "source": [
        "Dictionaries are another example of a data structure in Python. Dictionaries organize information in a key:value format. Every key must be unique, but values can be repeated."
      ],
      "metadata": {
        "id": "TSZisZHu3gUN"
      }
    },
    {
      "cell_type": "code",
      "source": [
        "# create a dictionary of fruits and their quantites\n",
        "fruits = {\"apples\": 3, \"bananas\": 4, \"oranges\": 3}\n",
        "\n",
        "# accessing members of the list\n",
        "print(fruits[\"apples\"])\n",
        "\n",
        "# adding members to the list, cannot have duplicate keys\n",
        "fruits[\"mangoes\"] = 4\n",
        "print(fruits)\n",
        "\n",
        "# this updates the value of \"apples\" rather than creating a new key\n",
        "fruits[\"apples\"] = 6\n",
        "print(fruits)\n",
        "\n",
        "# to get all the keys and values in the dictionary\n",
        "print(fruits.keys())\n",
        "print(fruits.values())"
      ],
      "metadata": {
        "colab": {
          "base_uri": "https://localhost:8080/"
        },
        "id": "JlCr9mgq3qCU",
        "outputId": "1b48b46f-f426-4dfa-9ad8-dbea3d658faf"
      },
      "execution_count": null,
      "outputs": [
        {
          "output_type": "stream",
          "name": "stdout",
          "text": [
            "3\n",
            "{'apples': 3, 'bananas': 4, 'oranges': 3, 'mangoes': 4}\n",
            "{'apples': 6, 'bananas': 4, 'oranges': 3, 'mangoes': 4}\n",
            "dict_keys(['apples', 'bananas', 'oranges', 'mangoes'])\n",
            "dict_values([6, 4, 3, 4])\n"
          ]
        }
      ]
    }
  ]
}